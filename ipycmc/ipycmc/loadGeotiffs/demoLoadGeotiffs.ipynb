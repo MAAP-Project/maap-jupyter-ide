{
 "cells": [
  {
   "cell_type": "markdown",
   "id": "6ae283d6",
   "metadata": {},
   "source": [
    "# Demo of load_geotiff function of ipycmc"
   ]
  },
  {
   "cell_type": "code",
   "execution_count": 5,
   "id": "766f9f39",
   "metadata": {},
   "outputs": [
    {
     "data": {
      "application/vnd.jupyter.widget-view+json": {
       "model_id": "281167f16a7c482f8a6ef2bd0284519f",
       "version_major": 2,
       "version_minor": 0
      },
      "text/plain": [
       "MapCMC()"
      ]
     },
     "metadata": {},
     "output_type": "display_data"
    }
   ],
   "source": [
    "from maap.maap import MAAP\n",
    "maap = MAAP(maap_host='api.ops.maap-project.org')\n",
    "\n",
    "import ipycmc\n",
    "w = ipycmc.MapCMC()\n",
    "w"
   ]
  },
  {
   "cell_type": "markdown",
   "id": "1a73b1ab",
   "metadata": {},
   "source": [
    "## Single GeoTIFF demo"
   ]
  },
  {
   "cell_type": "code",
   "execution_count": 3,
   "id": "37ef48cb",
   "metadata": {},
   "outputs": [
    {
     "name": "stdout",
     "output_type": "stream",
     "text": [
      "Request url generated: https://jqsd6bqdsf.execute-api.us-west-2.amazonaws.com/cog/WMTSCapabilities.xml?url=s3://maap-ops-workspace/graceal/N46W101.SRTMGL1.tif&tile_format=png&tile_scale=1&pixel_selection=first&TileMatrixSetId=WebMercatorQuad&resampling_method=nearest&return_mask=True&rescale=0%2C1000\n"
     ]
    }
   ],
   "source": [
    "# From the ops s3 environment\n",
    "w.load_geotiffs(\"s3://maap-ops-workspace/graceal/N46W101.SRTMGL1.tif\")"
   ]
  },
  {
   "cell_type": "code",
   "execution_count": 4,
   "id": "4931fd3a",
   "metadata": {},
   "outputs": [
    {
     "name": "stdout",
     "output_type": "stream",
     "text": [
      "Request url generated: https://jqsd6bqdsf.execute-api.us-west-2.amazonaws.com/cog/WMTSCapabilities.xml?url=s3://maap-ops-workspace/graceal/geoTiffs/N46W101.SRTMGL1.tif&tile_format=png&tile_scale=1&pixel_selection=first&TileMatrixSetId=WebMercatorQuad&resampling_method=nearest&return_mask=True&rescale=0%2C1000\n"
     ]
    }
   ],
   "source": [
    "# Nested geotiff within your folder\n",
    "w.load_geotiffs(\"s3://maap-ops-workspace/graceal/geoTiffs/N46W101.SRTMGL1.tif\")"
   ]
  },
  {
   "cell_type": "code",
   "execution_count": 9,
   "id": "cc3be84e",
   "metadata": {},
   "outputs": [
    {
     "name": "stdout",
     "output_type": "stream",
     "text": [
      "Request url generated: https://jqsd6bqdsf.execute-api.us-west-2.amazonaws.com/cog/WMTSCapabilities.xml?url=s3://maap-ops-workspace/shared/graceal/N45W101.SRTMGL1.tif&tile_format=png&tile_scale=1&pixel_selection=first&TileMatrixSetId=WebMercatorQuad&resampling_method=nearest&return_mask=True&rescale=0%2C1000\n"
     ]
    }
   ],
   "source": [
    "# Shared geotiff, just place in my-public-bucket and add shared to the key name to share with your team\n",
    "w.load_geotiffs(\"s3://maap-ops-workspace/shared/graceal/N45W101.SRTMGL1.tif\")"
   ]
  },
  {
   "cell_type": "code",
   "execution_count": 5,
   "id": "e9639be2",
   "metadata": {},
   "outputs": [
    {
     "name": "stdout",
     "output_type": "stream",
     "text": [
      "Request url generated: https://jqsd6bqdsf.execute-api.us-west-2.amazonaws.com/cog/WMTSCapabilities.xml?url=s3://nasa-maap-data-store/file-staging/nasa-map/SRTMGL1_COD___001/N29E025.SRTMGL1.tif&tile_format=png&tile_scale=1&pixel_selection=first&TileMatrixSetId=WebMercatorQuad&resampling_method=nearest&return_mask=True&rescale=0%2C1000\n"
     ]
    }
   ],
   "source": [
    "# Published data\n",
    "w.load_geotiffs(\"s3://nasa-maap-data-store/file-staging/nasa-map/SRTMGL1_COD___001/N29E025.SRTMGL1.tif\")"
   ]
  },
  {
   "cell_type": "markdown",
   "id": "70418e19",
   "metadata": {},
   "source": [
    "## Multiple GeoTIFF demo (Mosaic JSON)"
   ]
  },
  {
   "cell_type": "code",
   "execution_count": 11,
   "id": "8ceb0d01",
   "metadata": {},
   "outputs": [
    {
     "name": "stdout",
     "output_type": "stream",
     "text": [
      "Request url generated: https://jqsd6bqdsf.execute-api.us-west-2.amazonaws.com/mosaicjson/WMTSCapabilities.xml?url=https://h9su0upami.execute-api.us-east-1.amazonaws.com/mosaicjson/mosaics/63044812-85ed-4800-986f-09858fa3b7ae/mosaicjson&tile_format=png&tile_scale=1&pixel_selection=first&TileMatrixSetId=WebMercatorQuad&resampling_method=nearest&return_mask=True&rescale=0%2C1000\n"
     ]
    }
   ],
   "source": [
    "# From ops s3 bucket\n",
    "list_files = [\"s3://maap-ops-workspace/graceal/N45W101.SRTMGL1.tif\",\n",
    "              \"s3://maap-ops-workspace/graceal/N45W102.SRTMGL1.tif\", \n",
    "              \"s3://maap-ops-workspace/graceal/N46W101.SRTMGL1.tif\"]\n",
    "w.load_geotiffs(list_files)"
   ]
  },
  {
   "cell_type": "code",
   "execution_count": 7,
   "id": "8577c4c5",
   "metadata": {},
   "outputs": [
    {
     "name": "stdout",
     "output_type": "stream",
     "text": [
      "Request url generated: https://h9su0upami.execute-api.us-east-1.amazonaws.com/mosaicjson/mosaics/baf84b5e-7572-41a1-a384-9b1e0e3a16e0/WMTSCapabilities.xml?&tile_format=png&tile_scale=1&pixel_selection=first&TileMatrixSetId=WebMercatorQuad&resampling_method=nearest&return_mask=True&rescale=0%2C1000\n"
     ]
    }
   ],
   "source": [
    "# Published data\n",
    "list_files = ['s3://nasa-maap-data-store/file-staging/nasa-map/SRTMGL1_COD___001/N24E013.SRTMGL1.tif',\n",
    "'s3://nasa-maap-data-store/file-staging/nasa-map/SRTMGL1_COD___001/N24E014.SRTMGL1.tif',\n",
    "'s3://nasa-maap-data-store/file-staging/nasa-map/SRTMGL1_COD___001/N24E015.SRTMGL1.tif',\n",
    "'s3://nasa-maap-data-store/file-staging/nasa-map/SRTMGL1_COD___001/N24E016.SRTMGL1.tif']\n",
    "w.load_geotiffs(list_files)"
   ]
  },
  {
   "cell_type": "markdown",
   "id": "007b2b7d",
   "metadata": {},
   "source": [
    "## Extracting contents from folder example"
   ]
  },
  {
   "cell_type": "code",
   "execution_count": 12,
   "id": "b5536f2c",
   "metadata": {},
   "outputs": [
    {
     "name": "stdout",
     "output_type": "stream",
     "text": [
      "Geotiff links extracted from given folder are: ['s3://maap-ops-workspace/graceal/N45W101.SRTMGL1.tif', 's3://maap-ops-workspace/graceal/N45W102.SRTMGL1.tif', 's3://maap-ops-workspace/graceal/N46W101.SRTMGL1.tif']\n",
      "Request url generated: https://jqsd6bqdsf.execute-api.us-west-2.amazonaws.com/mosaicjson/WMTSCapabilities.xml?url=https://h9su0upami.execute-api.us-east-1.amazonaws.com/mosaicjson/mosaics/7222ef20-197b-40f1-b015-662a287d045b/mosaicjson&tile_format=png&tile_scale=1&pixel_selection=first&TileMatrixSetId=WebMercatorQuad&resampling_method=nearest&return_mask=True&rescale=0%2C1000\n"
     ]
    }
   ],
   "source": [
    "# Only extracts the files with required endings in variables.json (i.e. .tif or .tiff)\n",
    "w.load_geotiffs(\"s3://maap-ops-workspace/graceal\")"
   ]
  },
  {
   "cell_type": "markdown",
   "id": "b2d82592",
   "metadata": {},
   "source": [
    "## Overriding defaults"
   ]
  },
  {
   "cell_type": "code",
   "execution_count": 9,
   "id": "52df2fc6",
   "metadata": {},
   "outputs": [
    {
     "name": "stdout",
     "output_type": "stream",
     "text": [
      "Request url generated: https://jqsd6bqdsf.execute-api.us-west-2.amazonaws.com/cog/WMTSCapabilities.xml?url=s3://maap-ops-workspace/graceal/N46W101.SRTMGL1.tif&tile_format=jpg&tile_scale=1&pixel_selection=first&TileMatrixSetId=WebMercatorQuad&resampling_method=nearest&return_mask=True&rescale=0%2C1000\n"
     ]
    }
   ],
   "source": [
    "# Creates a weird background, but shows change\n",
    "w.load_geotiffs(\"s3://nasa-maap-data-store/file-staging/nasa-map/SRTMGL1_COD___001/N24E013.SRTMGL1.tif\", default_tiler_ops = {\"tile_format\":\"jpg\"}, handle_as = \"wmts/xml\", default_ops_load_layer = {\"handleAs\": \"wmts_raster\"})"
   ]
  },
  {
   "cell_type": "code",
   "execution_count": 10,
   "id": "0bb26102",
   "metadata": {},
   "outputs": [
    {
     "name": "stdout",
     "output_type": "stream",
     "text": [
      "Request url generated: https://jqsd6bqdsf.execute-api.us-west-2.amazonaws.com/cog/WMTSCapabilities.xml?url=s3://maap-ops-workspace/graceal/N46W101.SRTMGL1.tif&colormap_name=autumn&tile_format=png&tile_scale=1&pixel_selection=first&TileMatrixSetId=WebMercatorQuad&resampling_method=nearest&return_mask=True&rescale=0%2C1000\n"
     ]
    }
   ],
   "source": [
    "# Not typical default- normally a value is not provided for colormap_name in the request url\n",
    "w.load_geotiffs(\"s3://nasa-maap-data-store/file-staging/nasa-map/SRTMGL1_COD___001/N24E013.SRTMGL1.tif\", default_tiler_ops = {\"colormap_name\":\"autumn\"})"
   ]
  },
  {
   "cell_type": "markdown",
   "id": "63555af1",
   "metadata": {},
   "source": [
    "## Error checking"
   ]
  },
  {
   "cell_type": "code",
   "execution_count": 11,
   "id": "e001a8f8",
   "metadata": {},
   "outputs": [
    {
     "name": "stdout",
     "output_type": "stream",
     "text": [
      "You have entered an invalid file path that does not exist or the TiTiler does not have access to.\n",
      "Error: {\"detail\":\"'/vsis3/maap-ops-workspace/N46W101.SRTMGL1.tif' not recognized as a supported file format.\"}\n",
      "Request url generated: None\n"
     ]
    }
   ],
   "source": [
    "# Trying to put something in top most level\n",
    "w.load_geotiffs(\"s3://maap-ops-workspace/N46W101.SRTMGL1.tif\")"
   ]
  },
  {
   "cell_type": "code",
   "execution_count": 12,
   "id": "75b984e0",
   "metadata": {},
   "outputs": [
    {
     "name": "stdout",
     "output_type": "stream",
     "text": [
      "You have provided an empty list. Please provide s3 link(s).\n",
      "Request url generated: None\n"
     ]
    }
   ],
   "source": [
    "# Empty list\n",
    "w.load_geotiffs([])"
   ]
  },
  {
   "cell_type": "code",
   "execution_count": 13,
   "id": "0bec8c6b",
   "metadata": {},
   "outputs": [
    {
     "name": "stdout",
     "output_type": "stream",
     "text": [
      "You have provided an empty string. Please provide s3 link(s).\n",
      "Request url generated: None\n"
     ]
    }
   ],
   "source": [
    "# Empty string\n",
    "w.load_geotiffs(\"\")"
   ]
  },
  {
   "cell_type": "code",
   "execution_count": 14,
   "id": "0afc74d8",
   "metadata": {},
   "outputs": [
    {
     "name": "stdout",
     "output_type": "stream",
     "text": [
      "You have entered an invalid file path that does not exist or the TiTiler does not have access to.\n",
      "Error: {\"detail\":\"'/vsis3/maap-ops-work/graceal/N46W101.SRTMGL1.tif' not recognized as a supported file format.\"}\n",
      "Request url generated: None\n"
     ]
    }
   ],
   "source": [
    "# Invalid environment\n",
    "w.load_geotiffs(\"s3://maap-ops-work/graceal/N46W101.SRTMGL1.tif\")"
   ]
  },
  {
   "cell_type": "code",
   "execution_count": 15,
   "id": "3874cf17",
   "metadata": {},
   "outputs": [
    {
     "name": "stdout",
     "output_type": "stream",
     "text": [
      "Not all environments for your s3 links are the same. You provided environments maap-ops-dataset and maap-ops-workspace which differ.\n",
      "Request url generated: None\n"
     ]
    }
   ],
   "source": [
    "# Different environments in a list\n",
    "testing_list = [\"s3://maap-ops-dataset/graceal/N46W101.SRTMGL1.tif\", \"s3://maap-ops-workspace/graceal/N46W101.SRTMGL1.tif\"]\n",
    "w.load_geotiffs(testing_list)"
   ]
  },
  {
   "cell_type": "code",
   "execution_count": 13,
   "id": "abdb9f94",
   "metadata": {},
   "outputs": [
    {
     "name": "stdout",
     "output_type": "stream",
     "text": [
      "Request url generated: https://jqsd6bqdsf.execute-api.us-west-2.amazonaws.com/mosaicjson/WMTSCapabilities.xml?url=https://h9su0upami.execute-api.us-east-1.amazonaws.com/mosaicjson/mosaics/c9b51cb1-73d4-4ebe-9236-9aab410da50e/mosaicjson&tile_format=png&tile_scale=1&pixel_selection=first&TileMatrixSetId=WebMercatorQuad&resampling_method=nearest&return_mask=True&rescale=0%2C1000\n"
     ]
    }
   ],
   "source": [
    "# However, this does work with one maap environment and published data\n",
    "testing_list = [\"s3://nasa-maap-data-store/file-staging/nasa-map/SRTMGL1_COD___001/N46W102.SRTMGL1.tif\", \"s3://maap-ops-workspace/graceal/N46W101.SRTMGL1.tif\"]\n",
    "w.load_geotiffs(testing_list)"
   ]
  },
  {
   "cell_type": "code",
   "execution_count": 16,
   "id": "eb97a101",
   "metadata": {},
   "outputs": [
    {
     "name": "stdout",
     "output_type": "stream",
     "text": [
      "Invalid s3 link: maap-ops-workspace/graceal/N46W101.SRTMGL1.tif. Beginning does not match any of s3://, S3://.\n",
      "Request url generated: None\n"
     ]
    }
   ],
   "source": [
    "# Does not begin with s3://\n",
    "w.load_geotiffs(\"nasa-maap-data-store/file-staging/nasa-map/SRTMGL1_COD___001/N24E013.SRTMGL1.tif\")"
   ]
  },
  {
   "cell_type": "code",
   "execution_count": 14,
   "id": "f82def76",
   "metadata": {},
   "outputs": [
    {
     "name": "stdout",
     "output_type": "stream",
     "text": [
      "No GeoTIFFs found in the given folder. The folder path (s3://maap-ops-workspace/graceal/N46W101.SRTMGL1) you provided may not be a valid directory.\n",
      "Request url generated: None\n"
     ]
    }
   ],
   "source": [
    "# Does not end in .tiff or .tif and is not a folder\n",
    "w.load_geotiffs(\"s3://maap-ops-workspace/graceal/N46W101.SRTMGL1\")"
   ]
  },
  {
   "cell_type": "code",
   "execution_count": 17,
   "id": "dd682004",
   "metadata": {},
   "outputs": [
    {
     "name": "stdout",
     "output_type": "stream",
     "text": [
      "The variable you passed for urls is <class 'int'>. The only accepted types for this function are a string or list.\n",
      "Request url generated: None\n"
     ]
    }
   ],
   "source": [
    "# Variable that is not a string or list\n",
    "w.load_geotiffs(1)"
   ]
  },
  {
   "cell_type": "code",
   "execution_count": 18,
   "id": "1bcd4ce9",
   "metadata": {},
   "outputs": [
    {
     "name": "stdout",
     "output_type": "stream",
     "text": [
      "The key you are trying to pass as a default argument key to the Tiler, tile_formats is not an accepted default type. The accepted argument types are: tile_format, tile_scale, pixel_selection, TileMatrixSetId, resampling_method, return_mask, rescale, minzoom, maxzoom, bidx, expression, nodata, unscale, color_formula, colormap_name, colormap.\n",
      "Request url generated: None\n"
     ]
    }
   ],
   "source": [
    "# Invalid default argument key to Tiler\n",
    "w.load_geotiffs(\"s3://nasa-maap-data-store/file-staging/nasa-map/SRTMGL1_COD___001/N24E013.SRTMGL1.tif\", default_tiler_ops = {\"tile\":\"jpg\"})"
   ]
  },
  {
   "cell_type": "code",
   "execution_count": 19,
   "id": "b25e2af5",
   "metadata": {},
   "outputs": [
    {
     "name": "stdout",
     "output_type": "stream",
     "text": [
      "The argument you are passing for resampling_method is not an accepted argument for that key. Try one of these instead: nearest, bilinear, cubic, cubic_spline, lanczos, average, mode, gauss, max, min, med, q1, q3\n",
      "Request url generated: None\n"
     ]
    }
   ],
   "source": [
    "# Invalid default argument value to Tiler since resampling method can only take certain values\n",
    "w.load_geotiffs(\"s3://nasa-maap-data-store/file-staging/nasa-map/SRTMGL1_COD___001/N24E013.SRTMGL1.tif\", default_tiler_ops = {\"resampling_method\":\"hello\"})"
   ]
  },
  {
   "cell_type": "code",
   "execution_count": 20,
   "id": "4e7a3812",
   "metadata": {},
   "outputs": [
    {
     "name": "stdout",
     "output_type": "stream",
     "text": [
      "The argument you are passing for minzoom is not a valid class for this key. The class int is accepted, but you passed <class 'str'>.\n",
      "Request url generated: None\n"
     ]
    }
   ],
   "source": [
    "# Invalid class type for argument value to Tiler\n",
    "w.load_geotiffs(\"s3://nasa-maap-data-store/file-staging/nasa-map/SRTMGL1_COD___001/N24E013.SRTMGL1.tif\", default_tiler_ops = {\"minzoom\":\"hello\"})"
   ]
  },
  {
   "cell_type": "code",
   "execution_count": 21,
   "id": "9bc558b7",
   "metadata": {},
   "outputs": [
    {
     "name": "stdout",
     "output_type": "stream",
     "text": [
      "default_tiler_ops should be a <class 'dict'> in variables.json\n",
      "Request url generated: None\n"
     ]
    }
   ],
   "source": [
    "# Trying to pass default_tiler_ops as a string (or any other argument as an invalid type)\n",
    "w.load_geotiffs(\"s3://nasa-maap-data-store/file-staging/nasa-map/SRTMGL1_COD___001/N24E013.SRTMGL1.tif\", default_tiler_ops= \"hello\")"
   ]
  },
  {
   "cell_type": "code",
   "execution_count": 15,
   "id": "2d61d2be",
   "metadata": {},
   "outputs": [
    {
     "name": "stdout",
     "output_type": "stream",
     "text": [
      "You have entered an invalid file path that does not exist or the TiTiler does not have access to.\n",
      "Error: {\"detail\":\"'/vsis3/maap-ops-workspace/graceal/N46W104.SRTMGL1.tif' not recognized as a supported file format.\"}\n",
      "Invalid url: s3://maap-ops-workspace/graceal/N46W104.SRTMGL1.tif.\n",
      "Request url generated: None\n"
     ]
    }
   ],
   "source": [
    "# List contains url that passes other checks, but doesn't exist \n",
    "testing_list = [\"s3://maap-ops-workspace/graceal/N46W101.SRTMGL1.tif\", \"s3://maap-ops-workspace/graceal/N46W104.SRTMGL1.tif\"]\n",
    "w.load_geotiffs(testing_list)"
   ]
  },
  {
   "cell_type": "markdown",
   "id": "43299666",
   "metadata": {},
   "source": [
    "## Debug mode"
   ]
  },
  {
   "cell_type": "code",
   "execution_count": 23,
   "id": "845fffce",
   "metadata": {},
   "outputs": [
    {
     "name": "stdout",
     "output_type": "stream",
     "text": [
      "You have entered an invalid file path that does not exist or the TiTiler does not have access to.\n",
      "Error: {\"detail\":\"'/vsis3/maap-ops-work/graceal/N46W101.SRTMGL1.tif' not recognized as a supported file format.\"}\n",
      "Request url generated: None\n"
     ]
    }
   ],
   "source": [
    "# Invalid environment, should be maap-ops-workspace\n",
    "w.load_geotiffs(\"s3://maap-ops-work/graceal/N46W101.SRTMGL1.tif\")"
   ]
  },
  {
   "cell_type": "code",
   "execution_count": 24,
   "id": "2f7b53e1",
   "metadata": {},
   "outputs": [
    {
     "name": "stdout",
     "output_type": "stream",
     "text": [
      "Request url generated: https://jqsd6bqdsf.execute-api.us-west-2.amazonaws.com/cog/WMTSCapabilities.xml?url=s3://maap-ops-work/graceal/N46W101.SRTMGL1.tif&tile_format=png&tile_scale=1&pixel_selection=first&TileMatrixSetId=WebMercatorQuad&resampling_method=nearest&return_mask=True&rescale=0%2C1000\n"
     ]
    }
   ],
   "source": [
    "# No layer loads even though request url is generated. Here you can see that the user is not alerted that they passed an invalid link so they\n",
    "# might not realize the mistake that they made since they are not running in debug mode\n",
    "w.load_geotiffs(\"s3://maap-ops-work/graceal/N46W101.SRTMGL1.tif\", debug_mode=False)"
   ]
  },
  {
   "cell_type": "markdown",
   "id": "78b2837d",
   "metadata": {},
   "source": [
    "## Time analysis"
   ]
  },
  {
   "cell_type": "code",
   "execution_count": 25,
   "id": "1ffd8299",
   "metadata": {},
   "outputs": [
    {
     "name": "stdout",
     "output_type": "stream",
     "text": [
      "The time for debug mode was 0.06761 and the time for non debug mode was 0.00003. Not debugging was 0.06758 seconds faster than debugging.\n",
      "Request url generated: https://jqsd6bqdsf.execute-api.us-west-2.amazonaws.com/cog/WMTSCapabilities.xml?url=s3://maap-ops-workspace/graceal/N46W101.SRTMGL1.tif&tile_format=png&tile_scale=1&pixel_selection=first&TileMatrixSetId=WebMercatorQuad&resampling_method=nearest&return_mask=True&rescale=0%2C1000\n"
     ]
    }
   ],
   "source": [
    "w.load_geotiffs(\"s3://nasa-maap-data-store/file-staging/nasa-map/SRTMGL1_COD___001/N24E013.SRTMGL1.tif\", time_analysis = True)"
   ]
  },
  {
   "cell_type": "code",
   "execution_count": 26,
   "id": "71a5a04b",
   "metadata": {},
   "outputs": [
    {
     "name": "stdout",
     "output_type": "stream",
     "text": [
      "The time for debug mode was 3.18654 and the time for non debug mode was 2.18332. Not debugging was 1.00322 seconds faster than debugging.\n",
      "Request url generated: https://jqsd6bqdsf.execute-api.us-west-2.amazonaws.com/mosaicjson/WMTSCapabilities.xml?url=https://h9su0upami.execute-api.us-east-1.amazonaws.com/mosaicjson/mosaics/006a19be-58b0-41aa-84eb-5e3eba0648a1/mosaicjson&tile_format=png&tile_scale=1&pixel_selection=first&TileMatrixSetId=WebMercatorQuad&resampling_method=nearest&return_mask=True&rescale=0%2C1000\n"
     ]
    }
   ],
   "source": [
    "list_files = ['s3://nasa-maap-data-store/file-staging/nasa-map/SRTMGL1_COD___001/N24E013.SRTMGL1.tif',\n",
    "'s3://nasa-maap-data-store/file-staging/nasa-map/SRTMGL1_COD___001/N24E014.SRTMGL1.tif',\n",
    "'s3://nasa-maap-data-store/file-staging/nasa-map/SRTMGL1_COD___001/N24E015.SRTMGL1.tif',\n",
    "'s3://nasa-maap-data-store/file-staging/nasa-map/SRTMGL1_COD___001/N24E016.SRTMGL1.tif']\n",
    "w.load_geotiffs(list_files, time_analysis=True)"
   ]
  },
  {
   "cell_type": "code",
   "execution_count": 27,
   "id": "c3b97983",
   "metadata": {},
   "outputs": [
    {
     "name": "stdout",
     "output_type": "stream",
     "text": [
      "The time for debug mode was 10.30436 and the time for non debug mode was 7.88361. Not debugging was 2.42075 seconds faster than debugging.\n",
      "Request url generated: https://h9su0upami.execute-api.us-east-1.amazonaws.com/mosaicjson/mosaics/f673603b-809c-4fe4-b7ea-eb31ff04e2ed/WMTSCapabilities.xml?&tile_format=png&tile_scale=1&pixel_selection=first&TileMatrixSetId=WebMercatorQuad&resampling_method=nearest&return_mask=True&rescale=0%2C1000\n"
     ]
    }
   ],
   "source": [
    "# Example with large amount of geotiffs to show more dramatic difference\n",
    "list_files = ['s3://nasa-maap-data-store/file-staging/nasa-map/SRTMGL1_COD___001/N22W090.SRTMGL1.tif',\n",
    "'s3://nasa-maap-data-store/file-staging/nasa-map/SRTMGL1_COD___001/N21W089.SRTMGL1.tif',\n",
    "'s3://nasa-maap-data-store/file-staging/nasa-map/SRTMGL1_COD___001/N20W090.SRTMGL1.tif',\n",
    "'s3://nasa-maap-data-store/file-staging/nasa-map/SRTMGL1_COD___001/N21W088.SRTMGL1.tif',\n",
    "'s3://nasa-maap-data-store/file-staging/nasa-map/SRTMGL1_COD___001/N20W088.SRTMGL1.tif',\n",
    "'s3://nasa-maap-data-store/file-staging/nasa-map/SRTMGL1_COD___001/N20W089.SRTMGL1.tif',\n",
    "'s3://nasa-maap-data-store/file-staging/nasa-map/SRTMGL1_COD___001/N21W090.SRTMGL1.tif',\n",
    "'s3://nasa-maap-data-store/file-staging/nasa-map/SRTMGL1_COD___001/N20W087.SRTMGL1.tif',\n",
    "'s3://nasa-maap-data-store/file-staging/nasa-map/SRTMGL1_COD___001/N21W087.SRTMGL1.tif',\n",
    "'s3://nasa-maap-data-store/file-staging/nasa-map/SRTMGL1_COD___001/N30E019.SRTMGL1.tif',\n",
    "'s3://nasa-maap-data-store/file-staging/nasa-map/SRTMGL1_COD___001/N28E015.SRTMGL1.tif',\n",
    "'s3://nasa-maap-data-store/file-staging/nasa-map/SRTMGL1_COD___001/N27E004.SRTMGL1.tif',\n",
    "'s3://nasa-maap-data-store/file-staging/nasa-map/SRTMGL1_COD___001/N28E012.SRTMGL1.tif',\n",
    "'s3://nasa-maap-data-store/file-staging/nasa-map/SRTMGL1_COD___001/N28E014.SRTMGL1.tif',\n",
    "'s3://nasa-maap-data-store/file-staging/nasa-map/SRTMGL1_COD___001/N25E024.SRTMGL1.tif',]\n",
    "w.load_geotiffs(list_files, time_analysis=True)"
   ]
  }
 ],
 "metadata": {
  "kernelspec": {
   "display_name": "Python [conda env:root] *",
   "language": "python",
   "name": "conda-root-py"
  },
  "language_info": {
   "codemirror_mode": {
    "name": "ipython",
    "version": 3
   },
   "file_extension": ".py",
   "mimetype": "text/x-python",
   "name": "python",
   "nbconvert_exporter": "python",
   "pygments_lexer": "ipython3",
   "version": "3.7.8"
  }
 },
 "nbformat": 4,
 "nbformat_minor": 5
}
