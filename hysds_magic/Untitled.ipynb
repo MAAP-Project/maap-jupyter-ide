{
 "cells": [
  {
   "cell_type": "raw",
   "metadata": {},
   "source": [
    "print('hello world')"
   ]
  },
  {
   "cell_type": "code",
   "execution_count": 101,
   "metadata": {},
   "outputs": [],
   "source": [
    "from notebook.notebookapp import list_running_servers\n",
    "import requests\n",
    "import json"
   ]
  },
  {
   "cell_type": "code",
   "execution_count": 105,
   "metadata": {},
   "outputs": [
    {
     "name": "stdout",
     "output_type": "stream",
     "text": [
      "{'base_url': '/', 'hostname': 'localhost', 'notebook_dir': '/Users/eyam/jupyter/jupyterLabIDE/submit_jobs', 'password': False, 'pid': 57269, 'port': 8888, 'secure': False, 'token': '', 'url': 'http://localhost:8888/'}\n"
     ]
    }
   ],
   "source": [
    "servers = list(list_running_servers())\n",
    "for s in servers:\n",
    "    print(s)\n",
    "lk = 'http://localhost:8888'+servers[0]['base_url']+'api/sessions'\n",
    "r = requests.get(lk)\n",
    "# json.loads(r.text)"
   ]
  },
  {
   "cell_type": "code",
   "execution_count": 2,
   "metadata": {},
   "outputs": [
    {
     "data": {
      "application/json": {
       "cell": {
        "!": "OSMagics",
        "HTML": "Other",
        "SVG": "Other",
        "bash": "Other",
        "capture": "ExecutionMagics",
        "debug": "ExecutionMagics",
        "file": "Other",
        "html": "DisplayMagics",
        "javascript": "DisplayMagics",
        "js": "DisplayMagics",
        "latex": "DisplayMagics",
        "markdown": "DisplayMagics",
        "perl": "Other",
        "prun": "ExecutionMagics",
        "pypy": "Other",
        "python": "Other",
        "python2": "Other",
        "python3": "Other",
        "ruby": "Other",
        "script": "ScriptMagics",
        "sh": "Other",
        "svg": "DisplayMagics",
        "sx": "OSMagics",
        "system": "OSMagics",
        "time": "ExecutionMagics",
        "timeit": "ExecutionMagics",
        "writefile": "OSMagics"
       },
       "line": {
        "alias": "OSMagics",
        "alias_magic": "BasicMagics",
        "autoawait": "AsyncMagics",
        "autocall": "AutoMagics",
        "automagic": "AutoMagics",
        "autosave": "KernelMagics",
        "bookmark": "OSMagics",
        "cat": "Other",
        "cd": "OSMagics",
        "clear": "KernelMagics",
        "colors": "BasicMagics",
        "config": "ConfigMagics",
        "connect_info": "KernelMagics",
        "cp": "Other",
        "debug": "ExecutionMagics",
        "dhist": "OSMagics",
        "dirs": "OSMagics",
        "doctest_mode": "BasicMagics",
        "ed": "Other",
        "edit": "KernelMagics",
        "env": "OSMagics",
        "gui": "BasicMagics",
        "hist": "Other",
        "history": "HistoryMagics",
        "killbgscripts": "ScriptMagics",
        "ldir": "Other",
        "less": "KernelMagics",
        "lf": "Other",
        "lk": "Other",
        "ll": "Other",
        "load": "CodeMagics",
        "load_ext": "ExtensionMagics",
        "loadpy": "CodeMagics",
        "logoff": "LoggingMagics",
        "logon": "LoggingMagics",
        "logstart": "LoggingMagics",
        "logstate": "LoggingMagics",
        "logstop": "LoggingMagics",
        "ls": "Other",
        "lsmagic": "BasicMagics",
        "lx": "Other",
        "macro": "ExecutionMagics",
        "magic": "BasicMagics",
        "man": "KernelMagics",
        "matplotlib": "PylabMagics",
        "mkdir": "Other",
        "more": "KernelMagics",
        "mv": "Other",
        "notebook": "BasicMagics",
        "page": "BasicMagics",
        "pastebin": "CodeMagics",
        "pdb": "ExecutionMagics",
        "pdef": "NamespaceMagics",
        "pdoc": "NamespaceMagics",
        "pfile": "NamespaceMagics",
        "pinfo": "NamespaceMagics",
        "pinfo2": "NamespaceMagics",
        "pip": "BasicMagics",
        "popd": "OSMagics",
        "pprint": "BasicMagics",
        "precision": "BasicMagics",
        "prun": "ExecutionMagics",
        "psearch": "NamespaceMagics",
        "psource": "NamespaceMagics",
        "pushd": "OSMagics",
        "pwd": "OSMagics",
        "pycat": "OSMagics",
        "pylab": "PylabMagics",
        "qtconsole": "KernelMagics",
        "quickref": "BasicMagics",
        "recall": "HistoryMagics",
        "rehashx": "OSMagics",
        "reload_ext": "ExtensionMagics",
        "rep": "Other",
        "rerun": "HistoryMagics",
        "reset": "NamespaceMagics",
        "reset_selective": "NamespaceMagics",
        "rm": "Other",
        "rmdir": "Other",
        "run": "ExecutionMagics",
        "save": "CodeMagics",
        "sc": "OSMagics",
        "set_env": "OSMagics",
        "store": "StoreMagics",
        "sx": "OSMagics",
        "system": "OSMagics",
        "tb": "ExecutionMagics",
        "time": "ExecutionMagics",
        "timeit": "ExecutionMagics",
        "unalias": "OSMagics",
        "unload_ext": "ExtensionMagics",
        "who": "NamespaceMagics",
        "who_ls": "NamespaceMagics",
        "whos": "NamespaceMagics",
        "xdel": "NamespaceMagics",
        "xmode": "BasicMagics"
       }
      },
      "text/plain": [
       "Available line magics:\n",
       "%alias  %alias_magic  %autoawait  %autocall  %automagic  %autosave  %bookmark  %cat  %cd  %clear  %colors  %config  %connect_info  %cp  %debug  %dhist  %dirs  %doctest_mode  %ed  %edit  %env  %gui  %hist  %history  %killbgscripts  %ldir  %less  %lf  %lk  %ll  %load  %load_ext  %loadpy  %logoff  %logon  %logstart  %logstate  %logstop  %ls  %lsmagic  %lx  %macro  %magic  %man  %matplotlib  %mkdir  %more  %mv  %notebook  %page  %pastebin  %pdb  %pdef  %pdoc  %pfile  %pinfo  %pinfo2  %popd  %pprint  %precision  %prun  %psearch  %psource  %pushd  %pwd  %pycat  %pylab  %qtconsole  %quickref  %recall  %rehashx  %reload_ext  %rep  %rerun  %reset  %reset_selective  %rm  %rmdir  %run  %save  %sc  %set_env  %store  %sx  %system  %tb  %time  %timeit  %unalias  %unload_ext  %who  %who_ls  %whos  %xdel  %xmode\n",
       "\n",
       "Available cell magics:\n",
       "%%!  %%HTML  %%SVG  %%bash  %%capture  %%debug  %%file  %%html  %%javascript  %%js  %%latex  %%markdown  %%perl  %%prun  %%pypy  %%python  %%python2  %%python3  %%ruby  %%script  %%sh  %%svg  %%sx  %%system  %%time  %%timeit  %%writefile\n",
       "\n",
       "Automagic is ON, % prefix IS NOT needed for line magics."
      ]
     },
     "execution_count": 2,
     "metadata": {},
     "output_type": "execute_result"
    }
   ],
   "source": [
    "%lsmagic"
   ]
  },
  {
   "cell_type": "code",
   "execution_count": null,
   "metadata": {},
   "outputs": [],
   "source": [
    "%load_ext submit_jobs.hysds_magic"
   ]
  },
  {
   "cell_type": "code",
   "execution_count": 5,
   "metadata": {},
   "outputs": [
    {
     "name": "stdout",
     "output_type": "stream",
     "text": [
      "hysds.py\n"
     ]
    }
   ],
   "source": [
    "%ls submit_jobs/hysds_magic"
   ]
  },
  {
   "cell_type": "code",
   "execution_count": 191,
   "metadata": {},
   "outputs": [],
   "source": [
    "from IPython.core.magic import (Magics, magics_class, line_magic, cell_magic)\n",
    "import requests\n",
    "import json\n",
    "\n",
    "@magics_class\n",
    "class HysdsMagic(Magics):\n",
    "\n",
    "    @line_magic\n",
    "    def execute(self, line):\n",
    "        lk = 'http://localhost:8888'\n",
    "        endpoint = '/hysds/execute'\n",
    "        id = 'org.n52.wps.server.algorithm.SimpleBufferAlgorithm'\n",
    "        algo_ver,params = line.split('(')\n",
    "        params = params[:-1]\n",
    "        algo,ver = algo_ver.split(':')\n",
    "        inputs = []\n",
    "        for kvpair in params.split(','):\n",
    "            k,v = kvpair.split('=')\n",
    "            inputs.append(k)\n",
    "        inputs.append('')\n",
    "        call = '?algo_id={algo}&version={ver}&identifier={id}&inputs={inputs}&{params}'.format(algo=algo,ver=ver,id=id,inputs=','.join(inputs),params=params.replace(',','&'))\n",
    "        url = lk + endpoint + call\n",
    "        r = requests.get(url)\n",
    "        resp = json.loads(r.text)\n",
    "        print('{}\\n{}'.format(url,resp['result']))\n",
    "        return\n",
    "    \n",
    "    @line_magic\n",
    "    def status(self, line):\n",
    "        lk = 'http://localhost:8888'\n",
    "        endpoint = '/hysds/getStatus'\n",
    "        call = '?job_id={}'.format(line.strip())\n",
    "        url = lk + endpoint + call\n",
    "        r = requests.get(url)\n",
    "        resp = json.loads(r.text)\n",
    "        print('{}\\n{}'.format(url,resp['result']))\n",
    "        return\n",
    "    \n",
    "    @line_magic\n",
    "    def result(self, line):\n",
    "        lk = 'http://localhost:8888'\n",
    "        endpoint = '/hysds/getResult'\n",
    "        call = '?job_id={}'.format(line.strip())\n",
    "        url = lk + endpoint + call\n",
    "        r = requests.get(url)\n",
    "        resp = json.loads(r.text)\n",
    "        print('{}\\n{}'.format(url,resp['result'].replace('<br>','\\n')))\n",
    "        return\n",
    "    \n",
    "    @line_magic\n",
    "    def test(self,line):\n",
    "        print(line)\n",
    "        return"
   ]
  },
  {
   "cell_type": "code",
   "execution_count": 192,
   "metadata": {},
   "outputs": [],
   "source": [
    "ip = get_ipython()\n",
    "m = HysdsMagic()\n",
    "ip.register_magics(m)"
   ]
  },
  {
   "cell_type": "code",
   "execution_count": 193,
   "metadata": {},
   "outputs": [
    {
     "name": "stdout",
     "output_type": "stream",
     "text": [
      "http://localhost:8888/hysds/execute?algo_id=plot_algo&version=master&identifier=org.n52.wps.server.algorithm.SimpleBufferAlgorithm&inputs=pass_number,username,&pass_number=3&username=liz\n",
      "JobID is 60fb73a7-5e16-4752-a3a6-9f5b7a84d037\n"
     ]
    }
   ],
   "source": [
    "# %execute algo:version(p1=v1,p2=v2)\n",
    "%execute plot_algo:master(pass_number=3,username=liz)"
   ]
  },
  {
   "cell_type": "code",
   "execution_count": 189,
   "metadata": {},
   "outputs": [
    {
     "name": "stdout",
     "output_type": "stream",
     "text": [
      "http://localhost:8888/hysds/getStatus?job_id=569de45f-80eb-45be-8567-f45c743f7517\n",
      "JobID is 569de45f-80eb-45be-8567-f45c743f7517\n",
      "Status: job-completed\n"
     ]
    }
   ],
   "source": [
    "%status 569de45f-80eb-45be-8567-f45c743f7517"
   ]
  },
  {
   "cell_type": "code",
   "execution_count": 194,
   "metadata": {},
   "outputs": [
    {
     "name": "stdout",
     "output_type": "stream",
     "text": [
      "http://localhost:8888/hysds/getResult?job_id=569de45f-80eb-45be-8567-f45c743f7517\n",
      "JobID is 569de45f-80eb-45be-8567-f45c743f7517\n",
      "ProductName: output-2019-05-07_23-15-51\n",
      "Locations: http://maapdev.s3.amazonaws.com/products/plot/v1.0/2019/05/07/output-2019-05-07_23-15-51\n",
      "\ts3://s3.amazonaws.com:80/maapdev/products/plot/v1.0/2019/05/07/output-2019-05-07_23-15-51\n",
      "\t<a href=\"https://s3.console.aws.amazon.com/s3/buckets/maapdev/products/plot/v1.0/2019/05/07/output-2019-05-07_23-15-51/?region=us-east-1&tab=overview\">https://s3.console.aws.amazon.com/s3/buckets/maapdev/products/plot/v1.0/2019/05/07/output-2019-05-07_23-15-51/?region=us-east-1&tab=overview</a>\n",
      "\n",
      "\n"
     ]
    }
   ],
   "source": [
    "%result 569de45f-80eb-45be-8567-f45c743f7517"
   ]
  },
  {
   "cell_type": "code",
   "execution_count": 188,
   "metadata": {},
   "outputs": [
    {
     "name": "stdout",
     "output_type": "stream",
     "text": [
      "dict_keys(['hi'])\n",
      "dict_keys(['hi'])\n"
     ]
    }
   ],
   "source": [
    "d = {'hi':'bi'}\n",
    "k = d.keys()\n",
    "%test $k\n",
    "%test {d.keys()}"
   ]
  },
  {
   "cell_type": "code",
   "execution_count": null,
   "metadata": {},
   "outputs": [],
   "source": []
  }
 ],
 "metadata": {
  "kernelspec": {
   "display_name": "Python 3",
   "language": "python",
   "name": "python3"
  },
  "language_info": {
   "codemirror_mode": {
    "name": "ipython",
    "version": 3
   },
   "file_extension": ".py",
   "mimetype": "text/x-python",
   "name": "python",
   "nbconvert_exporter": "python",
   "pygments_lexer": "ipython3",
   "version": "3.6.7"
  }
 },
 "nbformat": 4,
 "nbformat_minor": 2
}
